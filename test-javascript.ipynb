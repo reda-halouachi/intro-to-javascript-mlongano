{
 "cells": [
  {
   "cell_type": "code",
   "execution_count": 1,
   "metadata": {},
   "outputs": [
    {
     "name": "stdout",
     "output_type": "stream",
     "text": [
      "Hello, World!\n"
     ]
    }
   ],
   "source": [
    "console.log('Hello, World!');\n"
   ]
  },
  {
   "attachments": {},
   "cell_type": "markdown",
   "metadata": {},
   "source": [
    "# Esempi di come si comportano i tipi di dati primitivi in Phyton."
   ]
  },
  {
   "cell_type": "code",
   "execution_count": 2,
   "metadata": {},
   "outputs": [
    {
     "name": "stdout",
     "output_type": "stream",
     "text": [
      "30\n",
      "31\n"
     ]
    }
   ],
   "source": [
    "\n",
    "{\n",
    "    let age = 30;\n",
    "    let age1 = age;\n",
    "    age = 31;\n",
    "    console.log(age1);\n",
    "    console.log(age);\n",
    "\n",
    "}\n"
   ]
  },
  {
   "cell_type": "code",
   "execution_count": 1,
   "metadata": {},
   "outputs": [
    {
     "name": "stdout",
     "output_type": "stream",
     "text": [
      "tommaso\n",
      "tom\n",
      "31\n",
      "30\n",
      "hello\n",
      "hell\n",
      "[ 1, 2, 3, 4 ]\n",
      "[ 1, 2, 3, 4 ]\n",
      "[ 4, 3, 2, 1 ]\n",
      "[ 4, 3, 2, 1 ]\n"
     ]
    }
   ],
   "source": [
    "let immutabile = \"tommaso\";\n",
    "let copy = immutabile.slice(0, 3);\n",
    "console.log(immutabile);\n",
    "console.log(copy);\n",
    "\n",
    "{ // Creo uno scope lessicale per non avere conflitti di nomi\n",
    "let age = 30; // Memorizzato sullo stack\n",
    "let age1 = age; // Una copia del valore viene creata\n",
    "age = 31; // non modifica il 'contenuto' di age1 ma crea un nuovo valore␣\n",
    "          // nello stack e cambia il riferimento di age\n",
    "console.log(age); // 31\n",
    "console.log(age1); // 30\n",
    "let immutable = \"hello\";\n",
    "\n",
    "4\n",
    "\n",
    "let copy = immutable.slice(0, 4); // Crea una nuova stringa \"hell\", non␣\n",
    "                                  //modifica la stringa originale \"hello\"\n",
    "console.log(immutable); // hello\n",
    "console.log(copy); // hell\n",
    "// Compara con i tipi di riferimento\n",
    "let mutable = [1, 2, 3]; // Memorizzato sullo heap\n",
    "let mutableCopy = mutable; // mutableCopy punta allo stesso oggetto\n",
    "mutableCopy.push(4); // Modificare mutableCopy modifica mutable\n",
    "console.log(mutable); // [1, 2, 3, 4]\n",
    "console.log(mutableCopy); // [1, 2, 3, 4]\n",
    "mutable.sort((a, b) => b - a); // Modificare mutable modifica mutableCopy\n",
    "console.log(mutable); // [4, 3, 2, 1]\n",
    "console.log(mutableCopy); // [4, 3, 2, 1]\n",
    "}\n",
    "\n",
    "\n",
    "\n",
    "\n"
   ]
  },
  {
   "cell_type": "code",
   "execution_count": 4,
   "metadata": {},
   "outputs": [
    {
     "name": "stdout",
     "output_type": "stream",
     "text": [
      "0\n",
      "1\n"
     ]
    },
    {
     "data": {
      "text/plain": [
       "\u001b[36m[Function (anonymous)]\u001b[39m"
      ]
     },
     "execution_count": 4,
     "metadata": {},
     "output_type": "execute_result"
    }
   ],
   "source": [
    "function creaContatore() {\n",
    "    let contatore = 0;\n",
    "    return function () {\n",
    "        return contatore++;\n",
    "    };\n",
    "}\n",
    "creaContatore();\n",
    "\n",
    "const contatore = creaContatore();\n",
    "\n",
    "console.log(contatore()); //0\n",
    "console.log(contatore()); //1\n",
    "\n",
    "function creaContatore1() {\n",
    "    return function () {\n",
    "        let contatore = 0;\n",
    "        return contatore++;\n",
    "    };\n",
    "}\n",
    "creaContatore();"
   ]
  },
  {
   "cell_type": "code",
   "execution_count": null,
   "metadata": {},
   "outputs": [],
   "source": [
    "let numbers = [1, 2, 3, 4, 5];\n",
    "// Usare reduce per sommare tutti gli elementi dell'array\n",
    "let sum = numbers.reduce(\n",
    "    (accumulator, currentValue) => accumulator + currentValue,\n",
    "    0,\n",
    ");\n",
    "console.log(sum); // Output: 15"
   ]
  },
  {
   "cell_type": "code",
   "execution_count": 2,
   "metadata": {},
   "outputs": [
    {
     "name": "stdout",
     "output_type": "stream",
     "text": [
      "24000\n",
      "2880\n",
      "2\n"
     ]
    }
   ],
   "source": [
    "let numbers = [1, 2, 3, 4, 5];\n",
    "\n",
    "function multiplyTs(...args: number[]) {\n",
    "    return args.reduce((a, b) => a * b); // vedere la funzione reduce descrtta in segui\n",
    "}\n",
    "function multiplyJs() {\n",
    "    // return Array.prototype.reduce.call(arguments, (a, b) => a * b);\n",
    "    // arguments è un oggetto 'simile' ad un array che contiene i parametri passati alla\n",
    "    return [...arguments].reduce((a, b) => a * b);\n",
    "}\n",
    "let numbersExtended = [...numbers, 2, 3, 4];\n",
    "console.log(multiplyTs(...numbers, 10, 20));\n",
    "console.log(multiplyJs(...numbersExtended));\n",
    "console.log(multiplyTs(2, 1, 1));"
   ]
  },
  {
   "cell_type": "code",
   "execution_count": 7,
   "metadata": {},
   "outputs": [
    {
     "name": "stdout",
     "output_type": "stream",
     "text": [
      "[ 1, 2, 3, 4, 5 ]\n",
      "false\n"
     ]
    }
   ],
   "source": [
    "function esempiArgomenti() {\n",
    "    console.log(arguments);\n",
    "    console.log(arguments.length);\n",
    "}\n",
    "\n",
    "//esempiArgomenti(1, 2, 3, 4);\n",
    "\n",
    "\n",
    "const pippo = [1, 2, 3, 4, 5];\n",
    "const pluto = [...pippo];\n",
    "console.log(pluto)\n",
    "\n",
    "console.log(pippo === pluto)\n"
   ]
  },
  {
   "cell_type": "code",
   "execution_count": 8,
   "metadata": {},
   "outputs": [
    {
     "name": "stdout",
     "output_type": "stream",
     "text": [
      "10\n",
      "20\n",
      "[ 30, 40, 50 ]\n"
     ]
    }
   ],
   "source": [
    "let a, b, rest;\n",
    "const lista = [10, 20];\n",
    "a = lista[0];\n",
    "b = lista[1];\n",
    "\n",
    "const { C, d } = { c: 10, d: 20 };\n",
    "console.log(c);"
   ]
  }
 ],
 "metadata": {
  "kernelspec": {
   "display_name": "Deno",
   "language": "typescript",
   "name": "deno"
  },
  "language_info": {
   "file_extension": ".ts",
   "mimetype": "text/x.typescript",
   "name": "typescript",
   "nb_converter": "script",
   "pygments_lexer": "typescript",
   "version": "5.3.3"
  }
 },
 "nbformat": 4,
 "nbformat_minor": 4
}
